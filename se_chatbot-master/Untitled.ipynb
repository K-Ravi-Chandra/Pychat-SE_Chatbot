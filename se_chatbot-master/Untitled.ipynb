{
 "cells": [
  {
   "cell_type": "code",
   "execution_count": 17,
   "id": "87725774",
   "metadata": {},
   "outputs": [],
   "source": [
    "from selenium import webdriver\n",
    "from selenium.webdriver.common.keys import Keys\n",
    "from selenium.webdriver.common.by import By"
   ]
  },
  {
   "cell_type": "code",
   "execution_count": 6,
   "id": "dc1743fa",
   "metadata": {},
   "outputs": [],
   "source": [
    "PATH = \"C:\\Program Files (x86)\\chromedriver.exe\""
   ]
  },
  {
   "cell_type": "code",
   "execution_count": 10,
   "id": "5cb1e8e9",
   "metadata": {},
   "outputs": [
    {
     "name": "stderr",
     "output_type": "stream",
     "text": [
      "C:\\Users\\YASHWANTH\\AppData\\Local\\Temp\\ipykernel_25428\\797652658.py:1: DeprecationWarning: executable_path has been deprecated, please pass in a Service object\n",
      "  driver = webdriver.Chrome(PATH)\n"
     ]
    }
   ],
   "source": [
    "driver = webdriver.Chrome(PATH)"
   ]
  },
  {
   "cell_type": "code",
   "execution_count": 11,
   "id": "724d5390",
   "metadata": {},
   "outputs": [],
   "source": [
    "driver.get(\"https://google.com\")"
   ]
  },
  {
   "cell_type": "code",
   "execution_count": 29,
   "id": "a9f0c341",
   "metadata": {},
   "outputs": [],
   "source": [
    "google_search_box = driver.find_element(by=By.NAME, value='q')"
   ]
  },
  {
   "cell_type": "code",
   "execution_count": 30,
   "id": "c91cf078",
   "metadata": {},
   "outputs": [],
   "source": [
    "google_search_box.clear()"
   ]
  },
  {
   "cell_type": "code",
   "execution_count": 31,
   "id": "6411c653",
   "metadata": {},
   "outputs": [],
   "source": [
    "google_search_box.click()"
   ]
  },
  {
   "cell_type": "code",
   "execution_count": 32,
   "id": "8da94325",
   "metadata": {},
   "outputs": [],
   "source": [
    "google_search_box.send_keys(\"how to iterate through a list in python stackoverflow\")"
   ]
  },
  {
   "cell_type": "code",
   "execution_count": 33,
   "id": "55b0cade",
   "metadata": {},
   "outputs": [],
   "source": [
    "google_search_box.send_keys(Keys.ENTER)"
   ]
  },
  {
   "cell_type": "code",
   "execution_count": 35,
   "id": "5de3c88b",
   "metadata": {},
   "outputs": [],
   "source": [
    "driver.find_element(by=By.CLASS_NAME, value='yuRUbf').click()"
   ]
  },
  {
   "cell_type": "code",
   "execution_count": 36,
   "id": "6d4fbb67",
   "metadata": {},
   "outputs": [],
   "source": [
    "heading = driver.find_element(by=By.ID, value='question-header')"
   ]
  },
  {
   "cell_type": "code",
   "execution_count": 40,
   "id": "948d82da",
   "metadata": {},
   "outputs": [],
   "source": [
    "heading = heading.text\n"
   ]
  },
  {
   "cell_type": "code",
   "execution_count": 42,
   "id": "b5701159",
   "metadata": {},
   "outputs": [],
   "source": [
    "heading = heading.split('\\n')[0]"
   ]
  },
  {
   "cell_type": "code",
   "execution_count": 43,
   "id": "edf3e6db",
   "metadata": {},
   "outputs": [
    {
     "data": {
      "text/plain": [
       "'Looping over a list in Python [closed]'"
      ]
     },
     "execution_count": 43,
     "metadata": {},
     "output_type": "execute_result"
    }
   ],
   "source": [
    "heading"
   ]
  },
  {
   "cell_type": "code",
   "execution_count": 48,
   "id": "0eea378e",
   "metadata": {},
   "outputs": [],
   "source": [
    "answers = driver.find_elements(by=By.CLASS_NAME, value='js-post-body')"
   ]
  },
  {
   "cell_type": "code",
   "execution_count": 49,
   "id": "976cf6c0",
   "metadata": {},
   "outputs": [
    {
     "data": {
      "text/plain": [
       "[<selenium.webdriver.remote.webelement.WebElement (session=\"764d1e33a8ea8d989b01eca947337462\", element=\"60a64554-f9b8-4388-9f6a-17d829fa9baf\")>,\n",
       " <selenium.webdriver.remote.webelement.WebElement (session=\"764d1e33a8ea8d989b01eca947337462\", element=\"b4fc3930-e01a-4219-a067-a2ffdeeca611\")>,\n",
       " <selenium.webdriver.remote.webelement.WebElement (session=\"764d1e33a8ea8d989b01eca947337462\", element=\"eb90260e-b78b-4c64-8930-2180bde36a4f\")>,\n",
       " <selenium.webdriver.remote.webelement.WebElement (session=\"764d1e33a8ea8d989b01eca947337462\", element=\"19a7e2da-12fa-4472-b79e-c7f2b5440ec8\")>,\n",
       " <selenium.webdriver.remote.webelement.WebElement (session=\"764d1e33a8ea8d989b01eca947337462\", element=\"694cd95d-ad1f-47e0-8da7-1faaf372eaf3\")>]"
      ]
     },
     "execution_count": 49,
     "metadata": {},
     "output_type": "execute_result"
    }
   ],
   "source": [
    "answers"
   ]
  },
  {
   "cell_type": "code",
   "execution_count": null,
   "id": "6a3d72d1",
   "metadata": {},
   "outputs": [],
   "source": [
    "By.xpath(\"//div[@class='value test']\")"
   ]
  },
  {
   "cell_type": "code",
   "execution_count": null,
   "id": "c745659d",
   "metadata": {},
   "outputs": [],
   "source": []
  },
  {
   "cell_type": "code",
   "execution_count": 53,
   "id": "2f53ad23",
   "metadata": {},
   "outputs": [],
   "source": [
    "votes = driver.find_elements(by=By.CLASS_NAME, value='js-vote-count')"
   ]
  },
  {
   "cell_type": "code",
   "execution_count": 54,
   "id": "3cb4c957",
   "metadata": {},
   "outputs": [
    {
     "name": "stdout",
     "output_type": "stream",
     "text": [
      "185\n",
      "208\n",
      "17\n",
      "2\n",
      "16\n"
     ]
    }
   ],
   "source": [
    "for vote in votes:\n",
    "    print(vote.text)"
   ]
  },
  {
   "cell_type": "code",
   "execution_count": 57,
   "id": "755aa210",
   "metadata": {},
   "outputs": [
    {
     "name": "stdout",
     "output_type": "stream",
     "text": [
      "208\n",
      "\n",
      "x in mylist is better and more readable than x in mylist[:] and your len(x) should be equal to 3.\n",
      ">>> mylist = [[1,2,3],[4,5,6,7],[8,9,10]]\n",
      ">>> for x in mylist:\n",
      "...      if len(x)==3:\n",
      "...        print x\n",
      "...\n",
      "[1, 2, 3]\n",
      "[8, 9, 10]\n",
      "or if you need more pythonic use list-comprehensions\n",
      ">>> [x for x in mylist if len(x)==3]\n",
      "[[1, 2, 3], [8, 9, 10]]\n",
      ">>>\n",
      "\n",
      "---------------\n",
      "\n",
      "17\n",
      "\n",
      "You may as well use for x in values rather than for x in values[:]; the latter makes an unnecessary copy. Also, of course that code checks for a length of 2 rather than of 3...\n",
      "The code only prints one item per value of x - and x is iterating over the elements of values, which are the sublists. So it will only print each sublist once.\n",
      "\n",
      "---------------\n",
      "\n",
      "2\n",
      "\n",
      "Do this instead:\n",
      "values = [[1,2,3],[4,5]]\n",
      "for x in values:\n",
      "    if len(x) == 3:\n",
      "       print(x)\n",
      "\n",
      "---------------\n",
      "\n",
      "16\n",
      "\n",
      "Here is the solution I was looking for. If you would like to create List2 that contains the difference of the number elements in List1.\n",
      "list1 = [12, 15, 22, 54, 21, 68, 9, 73, 81, 34, 45]\n",
      "list2 = []\n",
      "for i in range(1, len(list1)):\n",
      "  change = list1[i] - list1[i-1]\n",
      "  list2.append(change)\n",
      "Note that while len(list1) is 11 (elements), len(list2) will only be 10 elements because we are starting our for loop from element with index 1 in list1 not from element with index 0 in list1\n",
      "\n",
      "---------------\n",
      "\n"
     ]
    }
   ],
   "source": [
    "for (answer, vote) in zip(answers[1:], votes[1:]):\n",
    "    print(vote.text)\n",
    "    print()\n",
    "    print(answer.text)\n",
    "    print()\n",
    "    print('-'*15)\n",
    "    print()"
   ]
  },
  {
   "cell_type": "code",
   "execution_count": 59,
   "id": "0ae34ae8",
   "metadata": {},
   "outputs": [],
   "source": [
    "vote_bar = driver.find_elements(by=By.CLASS_NAME, value='js-voting-container')"
   ]
  },
  {
   "cell_type": "code",
   "execution_count": 60,
   "id": "38a08c90",
   "metadata": {},
   "outputs": [
    {
     "data": {
      "text/plain": [
       "5"
      ]
     },
     "execution_count": 60,
     "metadata": {},
     "output_type": "execute_result"
    }
   ],
   "source": [
    "len(vote_bar)"
   ]
  },
  {
   "cell_type": "code",
   "execution_count": 66,
   "id": "2b496f5a",
   "metadata": {},
   "outputs": [
    {
     "name": "stdout",
     "output_type": "stream",
     "text": [
      "185\n",
      "found\n",
      "208\n",
      "not found\n",
      "17\n",
      "not found\n",
      "2\n",
      "not found\n",
      "16\n",
      "not found\n"
     ]
    }
   ],
   "source": [
    "for vote in vote_bar:\n",
    "    print(vote.find_element(by=By.CLASS_NAME, value='js-vote-count').text)\n",
    "    try:\n",
    "        vote.find_element(by=By.CSS_SELECTOR, value='div.js-accepted-answer-indicator.d-none')\n",
    "        print('not found')\n",
    "    except:\n",
    "        print('found')"
   ]
  },
  {
   "cell_type": "code",
   "execution_count": 18,
   "id": "fba77e04",
   "metadata": {},
   "outputs": [],
   "source": [
    "\n",
    "\n",
    "from selenium import webdriver\n",
    "from selenium.webdriver.common.keys import Keys\n",
    "from selenium.webdriver.common.by import By\n",
    "from selenium.webdriver.support.ui import WebDriverWait\n",
    "from selenium.webdriver.support import expected_conditions as EC\n",
    "\n",
    "\n",
    "def search_stackoverflow(query):\n",
    "    \n",
    "    PATH = \"C:\\Program Files (x86)\\chromedriver.exe\"\n",
    "    driver = webdriver.Chrome(PATH)\n",
    "\n",
    "    driver.get(\"https://google.com\")\n",
    "    try:\n",
    "        google_search_box = WebDriverWait(driver, 30).until(\n",
    "        EC.presence_of_element_located((By.NAME, \"q\"))\n",
    "        )\n",
    "    except:\n",
    "        print('There was an error while scraping...')\n",
    "        return\n",
    "    finally:\n",
    "        pass\n",
    "    google_search_box.clear()\n",
    "    google_search_box.click()\n",
    "    google_search_box.send_keys(query)\n",
    "    google_search_box.send_keys(Keys.ENTER)\n",
    "    \n",
    "    try:\n",
    "        WebDriverWait(driver, 30).until(\n",
    "        EC.presence_of_element_located((By.CLASS_NAME, 'yuRUbf'))\n",
    "        ).click()\n",
    "    except:\n",
    "        print('There was an error while scraping...')\n",
    "        return\n",
    "    finally:\n",
    "        pass\n",
    "    \n",
    "    try:\n",
    "        heading = WebDriverWait(driver, 30).until(\n",
    "        EC.presence_of_element_located((By.ID, 'question-header'))\n",
    "        )\n",
    "    except:\n",
    "        print('There was an error while scraping...')\n",
    "        return\n",
    "    finally:\n",
    "        pass\n",
    "    \n",
    "    heading = heading.text\n",
    "    heading = heading.split('\\n')[0]\n",
    "    #print(heading)\n",
    "    #print()\n",
    "    \n",
    "    answers = driver.find_elements(by=By.CLASS_NAME, value='js-post-body')\n",
    "    final_answers = []\n",
    "    \n",
    "    for answer in answers[1:]:\n",
    "        final_answers.append(answer.get_attribute('outerHTML').replace('\\n', ''))\n",
    "        \n",
    "    vote_bar = driver.find_elements(by=By.CLASS_NAME, value='js-voting-container')\n",
    "    votes=[]\n",
    "    \n",
    "    for vote in vote_bar:\n",
    "        each_vote = []\n",
    "        each_vote.append(int(vote.find_element(by=By.CLASS_NAME, value='js-vote-count').text))\n",
    "        try:\n",
    "            vote.find_element(by=By.CSS_SELECTOR, value='div.js-accepted-answer-indicator.d-none')\n",
    "            #print('not found')\n",
    "            each_vote.append(0)\n",
    "        except:\n",
    "            #print('found')\n",
    "            each_vote.append(1)\n",
    "    \n",
    "        votes.append(each_vote)\n",
    "    \n",
    "    #print(votes)\n",
    "    #print()\n",
    "    \n",
    "    idx = -1\n",
    "    \n",
    "    i=0\n",
    "    for vote in votes[1:]:\n",
    "        if vote[1] == 1 and idx==-1:\n",
    "            idx = i\n",
    "        elif vote[1] == 1 and votes[idx][0] > vote[0]:\n",
    "            idx = i\n",
    "\n",
    "        i = i + 1\n",
    "        \n",
    "    question = answers[0].get_attribute('outerHTML')\n",
    "    \n",
    "    question = question.replace('\\n', '')\n",
    "    \n",
    "    if idx==-1:\n",
    "        answer = \"Couldn't find an accepted answer...\"\n",
    "    else:\n",
    "        answer = final_answers[idx]\n",
    "        \n",
    "    driver.close()\n",
    "    \n",
    "    return( {\n",
    "        'heading': heading,\n",
    "        'question': question,\n",
    "        'answer': answer\n",
    "    })\n",
    "\n",
    "\n"
   ]
  },
  {
   "cell_type": "code",
   "execution_count": 19,
   "id": "c49202fa",
   "metadata": {},
   "outputs": [
    {
     "name": "stderr",
     "output_type": "stream",
     "text": [
      "C:\\Users\\YASHWANTH\\AppData\\Local\\Temp\\ipykernel_21816\\1649694159.py:11: DeprecationWarning: executable_path has been deprecated, please pass in a Service object\n",
      "  driver = webdriver.Chrome(PATH)\n"
     ]
    }
   ],
   "source": [
    "result = search_stackoverflow(\"get_attribute('outerHTML') in selenium stackoverflow\")"
   ]
  },
  {
   "cell_type": "code",
   "execution_count": 13,
   "id": "b7f306b5",
   "metadata": {},
   "outputs": [],
   "source": [
    "result['question'] = result['question'].replace('\\n', '')"
   ]
  },
  {
   "cell_type": "code",
   "execution_count": 20,
   "id": "36d227fc",
   "metadata": {},
   "outputs": [
    {
     "data": {
      "text/plain": [
       "'<div class=\"s-prose js-post-body\" itemprop=\"text\">                <p>I am using this for get a row in a table:</p><pre class=\"lang-py s-code-block\"><code class=\"hljs language-python\">element = browser.find_element_by_xpath(<span class=\"hljs-string\">\"//*[contains(text(),\\'Sample Text\\')]\"</span>)html_text = element.get_attribute(<span class=\"hljs-string\">\\'outerHTML\\'</span>)</code></pre><p>this gives me <code>&lt;td&gt;...&lt;/td&gt;</code> but I want <code>&lt;tr&gt;&lt;td&gt;...&lt;/td&gt;&lt;td&gt;...&lt;/td&gt;&lt;/tr&gt;</code></p><p>How do I do this?</p>    </div>'"
      ]
     },
     "execution_count": 20,
     "metadata": {},
     "output_type": "execute_result"
    }
   ],
   "source": [
    "result['question']"
   ]
  },
  {
   "cell_type": "code",
   "execution_count": 21,
   "id": "6e0b0503",
   "metadata": {},
   "outputs": [
    {
     "data": {
      "text/plain": [
       "'<div class=\"s-prose js-post-body\" itemprop=\"text\"><p>If you want to get outerHTML of parent element, you can use below</p><pre class=\"lang-py s-code-block\"><code class=\"hljs language-python\">html_text = element.find_element_by_xpath(<span class=\"hljs-string\">\\'..\\'</span>).get_attribute(<span class=\"hljs-string\">\\'outerHTML\\'</span>)</code></pre>    </div>'"
      ]
     },
     "execution_count": 21,
     "metadata": {},
     "output_type": "execute_result"
    }
   ],
   "source": [
    "result['answer']"
   ]
  },
  {
   "cell_type": "code",
   "execution_count": 22,
   "id": "0040be63",
   "metadata": {},
   "outputs": [
    {
     "data": {
      "text/plain": [
       "'Is there a way of getting outerHTML of outerHTML of a web element using Selenium in Python?'"
      ]
     },
     "execution_count": 22,
     "metadata": {},
     "output_type": "execute_result"
    }
   ],
   "source": [
    "result['heading']"
   ]
  },
  {
   "cell_type": "code",
   "execution_count": null,
   "id": "1774d9a0",
   "metadata": {},
   "outputs": [],
   "source": []
  }
 ],
 "metadata": {
  "kernelspec": {
   "display_name": "Python 3 (ipykernel)",
   "language": "python",
   "name": "python3"
  },
  "language_info": {
   "codemirror_mode": {
    "name": "ipython",
    "version": 3
   },
   "file_extension": ".py",
   "mimetype": "text/x-python",
   "name": "python",
   "nbconvert_exporter": "python",
   "pygments_lexer": "ipython3",
   "version": "3.10.1"
  }
 },
 "nbformat": 4,
 "nbformat_minor": 5
}
